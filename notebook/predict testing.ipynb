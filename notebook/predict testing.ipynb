{
 "cells": [
  {
   "cell_type": "code",
   "execution_count": 2,
   "id": "903eccf3-5eaf-4b38-9ccf-341feb487f1e",
   "metadata": {},
   "outputs": [],
   "source": [
    "import pickle"
   ]
  },
  {
   "cell_type": "code",
   "execution_count": 4,
   "id": "9488b91f-798c-4b92-b164-be58934d1f66",
   "metadata": {},
   "outputs": [],
   "source": [
    "input_file = '../model/dv n model.bin'\n",
    "\n",
    "with open(input_file, 'rb') as f_in:\n",
    "    dv, model = pickle.load(f_in)"
   ]
  },
  {
   "cell_type": "code",
   "execution_count": 6,
   "id": "129bba6e-aae1-4755-ad83-fda699929019",
   "metadata": {},
   "outputs": [
    {
     "data": {
      "text/plain": [
       "array(['academic_pressure', 'age', 'cgpa', 'dietary_habits=healthy',\n",
       "       'dietary_habits=moderate', 'dietary_habits=unhealthy',\n",
       "       'family_history_of_mental_illness=no',\n",
       "       'family_history_of_mental_illness=yes', 'financial_stress',\n",
       "       'sleep_duration_hours=5-6', 'sleep_duration_hours=7-8',\n",
       "       'sleep_duration_hours=<5', 'sleep_duration_hours=>8',\n",
       "       'study_satisfaction', 'suicidal_thoughts=no',\n",
       "       'suicidal_thoughts=yes', 'work/study_hours'], dtype=object)"
      ]
     },
     "execution_count": 6,
     "metadata": {},
     "output_type": "execute_result"
    }
   ],
   "source": [
    "dv.get_feature_names_out()"
   ]
  },
  {
   "cell_type": "code",
   "execution_count": 38,
   "id": "1568e608-9365-4799-95e1-877f0c013cfd",
   "metadata": {},
   "outputs": [],
   "source": [
    "user = {\n",
    "    'academic_pressure': 4, \n",
    "    'age': 25, \n",
    "    'cgpa': 9.25, \n",
    "    'dietary_habits': 'healthy',\n",
    "    'family_history_of_mental_illness': 'yes',\n",
    "    'financial_stress': 4,\n",
    "    'sleep_duration_hours': '5-6', \n",
    "    'study_satisfaction': 4, \n",
    "    'suicidal_thoughts': 'no',\n",
    "    'work/study_hours': 7\n",
    "}"
   ]
  },
  {
   "cell_type": "code",
   "execution_count": 40,
   "id": "267b1b7a-3b50-4b66-a9d9-08ca3e6a729c",
   "metadata": {},
   "outputs": [],
   "source": [
    "X = dv.transform(user)"
   ]
  },
  {
   "cell_type": "code",
   "execution_count": 42,
   "id": "7ac31df9-2f00-4d03-adc3-e7c699b214bf",
   "metadata": {},
   "outputs": [
    {
     "data": {
      "text/plain": [
       "0.415"
      ]
     },
     "execution_count": 42,
     "metadata": {},
     "output_type": "execute_result"
    }
   ],
   "source": [
    "prob_depression = model.predict_proba(X)[0][1]\n",
    "round(prob_depression, 3)"
   ]
  },
  {
   "cell_type": "code",
   "execution_count": 61,
   "id": "f0af955f-31c0-4b68-82fc-fc6e46d55e60",
   "metadata": {},
   "outputs": [
    {
     "ename": "SyntaxError",
     "evalue": "invalid syntax (680644895.py, line 1)",
     "output_type": "error",
     "traceback": [
      "\u001b[1;36m  Cell \u001b[1;32mIn[61], line 1\u001b[1;36m\u001b[0m\n\u001b[1;33m    $conda list '^pickle'\u001b[0m\n\u001b[1;37m    ^\u001b[0m\n\u001b[1;31mSyntaxError\u001b[0m\u001b[1;31m:\u001b[0m invalid syntax\n"
     ]
    }
   ],
   "source": []
  },
  {
   "cell_type": "code",
   "execution_count": null,
   "id": "3a329f92-47a0-460f-8744-28f4bda1fbb6",
   "metadata": {},
   "outputs": [],
   "source": []
  }
 ],
 "metadata": {
  "kernelspec": {
   "display_name": "Python 3 (ipykernel)",
   "language": "python",
   "name": "python3"
  },
  "language_info": {
   "codemirror_mode": {
    "name": "ipython",
    "version": 3
   },
   "file_extension": ".py",
   "mimetype": "text/x-python",
   "name": "python",
   "nbconvert_exporter": "python",
   "pygments_lexer": "ipython3",
   "version": "3.12.4"
  }
 },
 "nbformat": 4,
 "nbformat_minor": 5
}
